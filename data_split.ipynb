{
 "cells": [
  {
   "cell_type": "markdown",
   "metadata": {},
   "source": [
    "## Data preprocessing\n",
    "#### Tasks accomplished:\n",
    "1. Use subset of data for segmentation\n",
    "2. Split data into training, development and test set\n"
   ]
  },
  {
   "cell_type": "code",
   "execution_count": 1,
   "metadata": {},
   "outputs": [
    {
     "name": "stdout",
     "output_type": "stream",
     "text": [
      "Populating the interactive namespace from numpy and matplotlib\n"
     ]
    },
    {
     "name": "stderr",
     "output_type": "stream",
     "text": [
      "C:\\Users\\lloyd\\anaconda3\\envs\\mlenv\\lib\\site-packages\\IPython\\core\\magics\\pylab.py:160: UserWarning: pylab import has clobbered these variables: ['random']\n",
      "`%matplotlib` prevents importing * from pylab and numpy\n",
      "  \"\\n`%matplotlib` prevents importing * from pylab and numpy\"\n"
     ]
    }
   ],
   "source": [
    "import pandas as pd\n",
    "import PIL as pil\n",
    "import os\n",
    "import random\n",
    "from scipy.sparse import csr_matrix\n",
    "\n",
    "import json\n",
    "import numpy as np # linear algebra\n",
    "from sklearn.model_selection import train_test_split\n",
    "\n",
    "%pylab inline\n",
    "import matplotlib.pyplot as plt\n",
    "import matplotlib.image as mpimg\n",
    "from random import sample"
   ]
  },
  {
   "cell_type": "code",
   "execution_count": 2,
   "metadata": {},
   "outputs": [
    {
     "data": {
      "text/html": [
       "<div>\n",
       "<style scoped>\n",
       "    .dataframe tbody tr th:only-of-type {\n",
       "        vertical-align: middle;\n",
       "    }\n",
       "\n",
       "    .dataframe tbody tr th {\n",
       "        vertical-align: top;\n",
       "    }\n",
       "\n",
       "    .dataframe thead th {\n",
       "        text-align: right;\n",
       "    }\n",
       "</style>\n",
       "<table border=\"1\" class=\"dataframe\">\n",
       "  <thead>\n",
       "    <tr style=\"text-align: right;\">\n",
       "      <th></th>\n",
       "      <th>ImageId</th>\n",
       "      <th>EncodedPixels</th>\n",
       "      <th>Height</th>\n",
       "      <th>Width</th>\n",
       "      <th>ClassId</th>\n",
       "      <th>AttributesIds</th>\n",
       "    </tr>\n",
       "  </thead>\n",
       "  <tbody>\n",
       "    <tr>\n",
       "      <th>0</th>\n",
       "      <td>00000663ed1ff0c4e0132b9b9ac53f6e</td>\n",
       "      <td>6068157 7 6073371 20 6078584 34 6083797 48 608...</td>\n",
       "      <td>5214</td>\n",
       "      <td>3676</td>\n",
       "      <td>6</td>\n",
       "      <td>115,136,143,154,230,295,316,317</td>\n",
       "    </tr>\n",
       "    <tr>\n",
       "      <th>1</th>\n",
       "      <td>00000663ed1ff0c4e0132b9b9ac53f6e</td>\n",
       "      <td>6323163 11 6328356 32 6333549 53 6338742 75 63...</td>\n",
       "      <td>5214</td>\n",
       "      <td>3676</td>\n",
       "      <td>0</td>\n",
       "      <td>115,136,142,146,225,295,316,317</td>\n",
       "    </tr>\n",
       "    <tr>\n",
       "      <th>2</th>\n",
       "      <td>00000663ed1ff0c4e0132b9b9ac53f6e</td>\n",
       "      <td>8521389 10 8526585 30 8531789 42 8537002 46 85...</td>\n",
       "      <td>5214</td>\n",
       "      <td>3676</td>\n",
       "      <td>28</td>\n",
       "      <td>163</td>\n",
       "    </tr>\n",
       "    <tr>\n",
       "      <th>3</th>\n",
       "      <td>00000663ed1ff0c4e0132b9b9ac53f6e</td>\n",
       "      <td>12903854 2 12909064 7 12914275 10 12919485 15 ...</td>\n",
       "      <td>5214</td>\n",
       "      <td>3676</td>\n",
       "      <td>31</td>\n",
       "      <td>160,204</td>\n",
       "    </tr>\n",
       "    <tr>\n",
       "      <th>4</th>\n",
       "      <td>00000663ed1ff0c4e0132b9b9ac53f6e</td>\n",
       "      <td>10837337 5 10842542 14 10847746 24 10852951 33...</td>\n",
       "      <td>5214</td>\n",
       "      <td>3676</td>\n",
       "      <td>32</td>\n",
       "      <td>219</td>\n",
       "    </tr>\n",
       "    <tr>\n",
       "      <th>...</th>\n",
       "      <td>...</td>\n",
       "      <td>...</td>\n",
       "      <td>...</td>\n",
       "      <td>...</td>\n",
       "      <td>...</td>\n",
       "      <td>...</td>\n",
       "    </tr>\n",
       "    <tr>\n",
       "      <th>333396</th>\n",
       "      <td>fffe20b555b98c3c1f26c8dfff275cbc</td>\n",
       "      <td>2712731 8 2715725 23 2718719 39 2721713 55 272...</td>\n",
       "      <td>3000</td>\n",
       "      <td>2001</td>\n",
       "      <td>28</td>\n",
       "      <td>163</td>\n",
       "    </tr>\n",
       "    <tr>\n",
       "      <th>333397</th>\n",
       "      <td>ffffbf7014a9e408bfbb81a75bc70638</td>\n",
       "      <td>71179 1 71678 3 72178 4 72678 4 73178 5 73679 ...</td>\n",
       "      <td>500</td>\n",
       "      <td>375</td>\n",
       "      <td>33</td>\n",
       "      <td>NaN</td>\n",
       "    </tr>\n",
       "    <tr>\n",
       "      <th>333398</th>\n",
       "      <td>ffffbf7014a9e408bfbb81a75bc70638</td>\n",
       "      <td>116648 5 117148 16 117648 22 118148 26 118647 ...</td>\n",
       "      <td>500</td>\n",
       "      <td>375</td>\n",
       "      <td>31</td>\n",
       "      <td>157</td>\n",
       "    </tr>\n",
       "    <tr>\n",
       "      <th>333399</th>\n",
       "      <td>ffffbf7014a9e408bfbb81a75bc70638</td>\n",
       "      <td>67711 1 68210 1 68709 2 69204 2 69208 3 69705 ...</td>\n",
       "      <td>500</td>\n",
       "      <td>375</td>\n",
       "      <td>31</td>\n",
       "      <td>157</td>\n",
       "    </tr>\n",
       "    <tr>\n",
       "      <th>333400</th>\n",
       "      <td>ffffbf7014a9e408bfbb81a75bc70638</td>\n",
       "      <td>63365 36 63852 77 64343 85 64838 89 65332 94 6...</td>\n",
       "      <td>500</td>\n",
       "      <td>375</td>\n",
       "      <td>10</td>\n",
       "      <td>102,128,142,150,295,308,317</td>\n",
       "    </tr>\n",
       "  </tbody>\n",
       "</table>\n",
       "<p>333401 rows × 6 columns</p>\n",
       "</div>"
      ],
      "text/plain": [
       "                                 ImageId  \\\n",
       "0       00000663ed1ff0c4e0132b9b9ac53f6e   \n",
       "1       00000663ed1ff0c4e0132b9b9ac53f6e   \n",
       "2       00000663ed1ff0c4e0132b9b9ac53f6e   \n",
       "3       00000663ed1ff0c4e0132b9b9ac53f6e   \n",
       "4       00000663ed1ff0c4e0132b9b9ac53f6e   \n",
       "...                                  ...   \n",
       "333396  fffe20b555b98c3c1f26c8dfff275cbc   \n",
       "333397  ffffbf7014a9e408bfbb81a75bc70638   \n",
       "333398  ffffbf7014a9e408bfbb81a75bc70638   \n",
       "333399  ffffbf7014a9e408bfbb81a75bc70638   \n",
       "333400  ffffbf7014a9e408bfbb81a75bc70638   \n",
       "\n",
       "                                            EncodedPixels  Height  Width  \\\n",
       "0       6068157 7 6073371 20 6078584 34 6083797 48 608...    5214   3676   \n",
       "1       6323163 11 6328356 32 6333549 53 6338742 75 63...    5214   3676   \n",
       "2       8521389 10 8526585 30 8531789 42 8537002 46 85...    5214   3676   \n",
       "3       12903854 2 12909064 7 12914275 10 12919485 15 ...    5214   3676   \n",
       "4       10837337 5 10842542 14 10847746 24 10852951 33...    5214   3676   \n",
       "...                                                   ...     ...    ...   \n",
       "333396  2712731 8 2715725 23 2718719 39 2721713 55 272...    3000   2001   \n",
       "333397  71179 1 71678 3 72178 4 72678 4 73178 5 73679 ...     500    375   \n",
       "333398  116648 5 117148 16 117648 22 118148 26 118647 ...     500    375   \n",
       "333399  67711 1 68210 1 68709 2 69204 2 69208 3 69705 ...     500    375   \n",
       "333400  63365 36 63852 77 64343 85 64838 89 65332 94 6...     500    375   \n",
       "\n",
       "        ClassId                    AttributesIds  \n",
       "0             6  115,136,143,154,230,295,316,317  \n",
       "1             0  115,136,142,146,225,295,316,317  \n",
       "2            28                              163  \n",
       "3            31                          160,204  \n",
       "4            32                              219  \n",
       "...         ...                              ...  \n",
       "333396       28                              163  \n",
       "333397       33                              NaN  \n",
       "333398       31                              157  \n",
       "333399       31                              157  \n",
       "333400       10      102,128,142,150,295,308,317  \n",
       "\n",
       "[333401 rows x 6 columns]"
      ]
     },
     "execution_count": 2,
     "metadata": {},
     "output_type": "execute_result"
    }
   ],
   "source": [
    "\n",
    "base_dir ='C:\\\\Users\\\\lloyd\\\\Desktop\\\\materialist2021'\n",
    "df = pd.read_csv(base_dir+ '\\\\train.csv')\n",
    "df"
   ]
  },
  {
   "cell_type": "code",
   "execution_count": 3,
   "metadata": {},
   "outputs": [
    {
     "data": {
      "text/html": [
       "<div>\n",
       "<style scoped>\n",
       "    .dataframe tbody tr th:only-of-type {\n",
       "        vertical-align: middle;\n",
       "    }\n",
       "\n",
       "    .dataframe tbody tr th {\n",
       "        vertical-align: top;\n",
       "    }\n",
       "\n",
       "    .dataframe thead th {\n",
       "        text-align: right;\n",
       "    }\n",
       "</style>\n",
       "<table border=\"1\" class=\"dataframe\">\n",
       "  <thead>\n",
       "    <tr style=\"text-align: right;\">\n",
       "      <th></th>\n",
       "      <th>new_id</th>\n",
       "      <th>old_id</th>\n",
       "    </tr>\n",
       "  </thead>\n",
       "  <tbody>\n",
       "    <tr>\n",
       "      <th>0</th>\n",
       "      <td>0</td>\n",
       "      <td>0</td>\n",
       "    </tr>\n",
       "    <tr>\n",
       "      <th>1</th>\n",
       "      <td>0</td>\n",
       "      <td>1</td>\n",
       "    </tr>\n",
       "    <tr>\n",
       "      <th>2</th>\n",
       "      <td>1</td>\n",
       "      <td>2</td>\n",
       "    </tr>\n",
       "    <tr>\n",
       "      <th>3</th>\n",
       "      <td>1</td>\n",
       "      <td>3</td>\n",
       "    </tr>\n",
       "    <tr>\n",
       "      <th>4</th>\n",
       "      <td>1</td>\n",
       "      <td>4</td>\n",
       "    </tr>\n",
       "  </tbody>\n",
       "</table>\n",
       "</div>"
      ],
      "text/plain": [
       "   new_id  old_id\n",
       "0       0       0\n",
       "1       0       1\n",
       "2       1       2\n",
       "3       1       3\n",
       "4       1       4"
      ]
     },
     "execution_count": 3,
     "metadata": {},
     "output_type": "execute_result"
    }
   ],
   "source": [
    "\n",
    "new_labels = [ {'id': 0, 'name':'shirt','id_list':[0,1]},\n",
    "    {'id': 1, 'name':'overcoat','id_list':[2,3,4,5,9]},\n",
    "    {'id': 2, 'name':'pants','id_list':[6]},\n",
    "    {'id':3, 'name': 'shorts','id_list':[7]},\n",
    "    {'id':4,'name':'skirt','id_list':[8]},\n",
    "    {'id':5,'name':'dress','id_list':[10]}]\n",
    "json_object = json.dumps(new_labels, indent = 4) \n",
    "f = open(os.path.join(base_dir,\"data\",\"label_dict.json\"),\"w\")\n",
    "\n",
    "# write json object to file\n",
    "f.write(json_object)\n",
    "\n",
    "# close file\n",
    "f.close()\n",
    "\n",
    "new_labels_df = pd.DataFrame([(x['id'],y) for x in new_labels for y in x['id_list']],columns = ['new_id','old_id'])\n",
    "new_labels_df.head()"
   ]
  },
  {
   "cell_type": "code",
   "execution_count": 4,
   "metadata": {},
   "outputs": [
    {
     "name": "stderr",
     "output_type": "stream",
     "text": [
      "C:\\Users\\lloyd\\anaconda3\\envs\\mlenv\\lib\\site-packages\\ipykernel_launcher.py:3: SettingWithCopyWarning: \n",
      "A value is trying to be set on a copy of a slice from a DataFrame.\n",
      "Try using .loc[row_indexer,col_indexer] = value instead\n",
      "\n",
      "See the caveats in the documentation: https://pandas.pydata.org/pandas-docs/stable/user_guide/indexing.html#returning-a-view-versus-a-copy\n",
      "  This is separate from the ipykernel package so we can avoid doing imports until\n"
     ]
    }
   ],
   "source": [
    "#update the classes\n",
    "df = df[df.ClassId.isin(new_labels_df.old_id)]\n",
    "df['ClassId'] = df.apply(lambda x: new_labels_df[new_labels_df.old_id.isin([x['ClassId']])].new_id.item(),axis = 1)\n"
   ]
  },
  {
   "cell_type": "markdown",
   "metadata": {},
   "source": [
    "#### Find count of each class"
   ]
  },
  {
   "cell_type": "code",
   "execution_count": 5,
   "metadata": {},
   "outputs": [
    {
     "data": {
      "image/png": "[encoded data removed]",
      "text/plain": [
       "<Figure size 432x288 with 1 Axes>"
      ]
     },
     "metadata": {
      "needs_background": "light"
     },
     "output_type": "display_data"
    }
   ],
   "source": [
    "#find count of different classes in dataset\n",
    "df_class_count = df.groupby(['ClassId']).count()['ImageId']\n",
    "df_class_count.plot.bar(rot = 45)\n",
    "plt.show()\n",
    "df_class_count = df_class_count.sort_values()"
   ]
  },
  {
   "cell_type": "code",
   "execution_count": 6,
   "metadata": {},
   "outputs": [
    {
     "data": {
      "text/plain": [
       "ClassId\n",
       "3     2756\n",
       "4     5046\n",
       "2    12414\n",
       "1    14277\n",
       "5    18739\n",
       "0    22709\n",
       "Name: ImageId, dtype: int64"
      ]
     },
     "execution_count": 6,
     "metadata": {},
     "output_type": "execute_result"
    }
   ],
   "source": [
    "df_class_count"
   ]
  },
  {
   "cell_type": "markdown",
   "metadata": {},
   "source": [
    "#### Find list of unique images for each class id"
   ]
  },
  {
   "cell_type": "code",
   "execution_count": 7,
   "metadata": {},
   "outputs": [
    {
     "data": {
      "text/plain": [
       "ClassId\n",
       "0    [00000663ed1ff0c4e0132b9b9ac53f6e, 0000fe7c919...\n",
       "1    [00000663ed1ff0c4e0132b9b9ac53f6e, 000aac3870e...\n",
       "2    [00000663ed1ff0c4e0132b9b9ac53f6e, 000775b6b5e...\n",
       "3    [000cd2e13d1bdd28f480304d7bb9e1ca, 00211c06b1f...\n",
       "4    [00048c3a2fb9c29340473c4cfc06424a, 0006ea84499...\n",
       "dtype: object"
      ]
     },
     "execution_count": 7,
     "metadata": {},
     "output_type": "execute_result"
    }
   ],
   "source": [
    "df_class_image = df.groupby(['ClassId']).apply(lambda x: x['ImageId'].to_list())\n",
    "df_class_image.head()"
   ]
  },
  {
   "cell_type": "code",
   "execution_count": 8,
   "metadata": {},
   "outputs": [],
   "source": [
    "df_class_count_sample = df_class_count#[df_class_count <= 6000]\n",
    "#df_class_count_sample = df_class_image.copy()\n",
    "df_class_count_sample.index.to_list()\n",
    "train = df.copy()"
   ]
  },
  {
   "cell_type": "markdown",
   "metadata": {},
   "source": [
    "#### Split the images into training + development and test set\n",
    "List of images for test set such that there are 25 images for each class. \n",
    "Many images have more than one class, therefore we start off with allocating images to classes with least number of images."
   ]
  },
  {
   "cell_type": "code",
   "execution_count": 9,
   "metadata": {},
   "outputs": [
    {
     "name": "stdout",
     "output_type": "stream",
     "text": [
      "number of images:  100\n"
     ]
    },
    {
     "name": "stderr",
     "output_type": "stream",
     "text": [
      "C:\\Users\\lloyd\\anaconda3\\envs\\mlenv\\lib\\site-packages\\ipykernel_launcher.py:15: UserWarning: Boolean Series key will be reindexed to match DataFrame index.\n",
      "  from ipykernel import kernelapp as app\n",
      "C:\\Users\\lloyd\\anaconda3\\envs\\mlenv\\lib\\site-packages\\ipykernel_launcher.py:16: UserWarning: Boolean Series key will be reindexed to match DataFrame index.\n",
      "  app.launch_new_instance()\n"
     ]
    }
   ],
   "source": [
    "\n",
    "sample_len = 25\n",
    "image_list = []\n",
    "for i,val in df_class_count_sample.iteritems():\n",
    "    \n",
    "    class_image = df_class_image[i]\n",
    "    existing_in_list = len(set(class_image) & set(image_list))\n",
    "    sample_from = set(class_image) - set(image_list)\n",
    "    \n",
    "    if sample_len - existing_in_list > 0:\n",
    "        \n",
    "        image_list += sample(list(sample_from), sample_len - existing_in_list)\n",
    "        \n",
    "print(\"number of images: \",len(image_list))\n",
    "    \n",
    "test_set = train[train.ImageId.isin(image_list)][train.ClassId.isin(df_class_count_sample.index.to_list())]\n",
    "train_dev_set = train[~(train.ImageId.isin(test_set.ImageId))][train.ClassId.isin(df_class_count_sample.index.to_list())]\n"
   ]
  },
  {
   "cell_type": "markdown",
   "metadata": {},
   "source": [
    "#### Repeat the above procedure to split images into training and development set"
   ]
  },
  {
   "cell_type": "code",
   "execution_count": 10,
   "metadata": {},
   "outputs": [],
   "source": [
    "#find count of different classes in dataset\n",
    "df_class_count = train_dev_set.groupby(['ClassId']).count()['ImageId']\n",
    "df_class_count = df_class_count.sort_values()\n"
   ]
  },
  {
   "cell_type": "code",
   "execution_count": 11,
   "metadata": {},
   "outputs": [
    {
     "name": "stdout",
     "output_type": "stream",
     "text": [
      "number of images:  96\n"
     ]
    }
   ],
   "source": [
    "sample_len = 25\n",
    "image_list = []\n",
    "df_class_image = train_dev_set.groupby(['ClassId']).apply(lambda x: x['ImageId'].to_list())\n",
    "\n",
    "for i,val in df_class_count.iteritems():\n",
    "    \n",
    "    class_image = df_class_image[i]\n",
    "    existing_in_list = len(set(class_image) & set(image_list))\n",
    "    sample_from = set(class_image) - set(image_list)\n",
    "    \n",
    "    if sample_len - existing_in_list > 0:\n",
    "        \n",
    "        image_list += sample(list(sample_from), sample_len - existing_in_list)\n",
    "        \n",
    "print(\"number of images: \",len(image_list))\n",
    "    \n",
    "dev_set = train_dev_set[train_dev_set.ImageId.isin(image_list)]\n",
    "train_set = train_dev_set[~(train_dev_set.ImageId.isin(dev_set.ImageId))]\n"
   ]
  },
  {
   "cell_type": "code",
   "execution_count": 12,
   "metadata": {},
   "outputs": [
    {
     "data": {
      "text/plain": [
       "set()"
      ]
     },
     "execution_count": 12,
     "metadata": {},
     "output_type": "execute_result"
    }
   ],
   "source": [
    "train_image_set = set(train_set.ImageId)\n",
    "test_image_set = set(test_set.ImageId)\n",
    "dev_image_set = set(dev_set.ImageId)\n",
    "train_image_set.intersection(test_image_set,dev_image_set)"
   ]
  },
  {
   "cell_type": "code",
   "execution_count": 13,
   "metadata": {},
   "outputs": [],
   "source": [
    "base_dir ='C:\\\\Users\\\\lloyd\\\\Desktop\\\\materialist2021'\n",
    "\n",
    "os.makedirs(os.path.join(base_dir,'train'))\n",
    "os.makedirs(os.path.join(base_dir,'test'))\n",
    "os.makedirs(os.path.join(base_dir,'dev'))\n",
    "\n",
    "train_set.to_csv(os.path.join(base_dir,'train','train.csv'))\n",
    "dev_set.to_csv(os.path.join(base_dir,'dev','dev.csv'))\n",
    "test_set.to_csv(os.path.join(base_dir,'test','test.csv'))\n",
    "\n",
    "copy_files_from = os.path.join(base_dir,'train')\n",
    "\n",
    "import shutil\n",
    "\n",
    "train_img_to = os.path.join(base_dir,'train')\n",
    "dev_img_to = os.path.join(base_dir,'dev')\n",
    "test_img_to = os.path.join(base_dir,'test')\n",
    "\n",
    "train_img_list = train_set.ImageId.drop_duplicates()\n",
    "dev_img_list = dev_set.ImageId.drop_duplicates()\n",
    "test_img_list = test_set.ImageId.drop_duplicates()\n",
    "\n",
    "for dev_img in dev_img_list:\n",
    "    shutil.copy(os.path.join(copy_files_from,dev_img+'.jpg'),dev_img_to)\n",
    "\n",
    "for test_img in test_img_list:\n",
    "    shutil.copy(os.path.join(copy_files_from,test_img+'.jpg'),test_img_to)\n",
    "    \n",
    "for train_img in train_img_list:\n",
    "    shutil.copy(os.path.join(copy_files_from,train_img+'.jpg'),train_img_to)\n",
    "    \n"
   ]
  },
  {
   "cell_type": "code",
   "execution_count": 14,
   "metadata": {},
   "outputs": [],
   "source": [
    "class_df = train_set.ClassId.drop_duplicates().reset_index(drop = True).reset_index()\n",
    "class_df.set_index(['ClassId'],inplace = True)"
   ]
  },
  {
   "cell_type": "code",
   "execution_count": 15,
   "metadata": {},
   "outputs": [
    {
     "name": "stderr",
     "output_type": "stream",
     "text": [
      "C:\\Users\\lloyd\\anaconda3\\envs\\mlenv\\lib\\site-packages\\ipykernel_launcher.py:1: SettingWithCopyWarning: \n",
      "A value is trying to be set on a copy of a slice from a DataFrame.\n",
      "Try using .loc[row_indexer,col_indexer] = value instead\n",
      "\n",
      "See the caveats in the documentation: https://pandas.pydata.org/pandas-docs/stable/user_guide/indexing.html#returning-a-view-versus-a-copy\n",
      "  \"\"\"Entry point for launching an IPython kernel.\n",
      "C:\\Users\\lloyd\\anaconda3\\envs\\mlenv\\lib\\site-packages\\ipykernel_launcher.py:2: SettingWithCopyWarning: \n",
      "A value is trying to be set on a copy of a slice from a DataFrame.\n",
      "Try using .loc[row_indexer,col_indexer] = value instead\n",
      "\n",
      "See the caveats in the documentation: https://pandas.pydata.org/pandas-docs/stable/user_guide/indexing.html#returning-a-view-versus-a-copy\n",
      "  \n"
     ]
    }
   ],
   "source": [
    "train_set['ClassId'] = train_set.ClassId.apply(lambda x: class_df.loc[x].item())\n",
    "dev_set['ClassId'] = dev_set.ClassId.apply(lambda x: class_df.loc[x].item())\n",
    "test_set['ClassId'] = test_set.ClassId.apply(lambda x: class_df.loc[x].item())"
   ]
  },
  {
   "cell_type": "code",
   "execution_count": 16,
   "metadata": {},
   "outputs": [],
   "source": [
    "train_set.to_csv(os.path.join(base_dir,'train','train.csv'))\n",
    "dev_set.to_csv(os.path.join(base_dir,'dev','dev.csv'))\n",
    "test_set.to_csv(os.path.join(base_dir,'test','test.csv'))"
   ]
  },
  {
   "cell_type": "code",
   "execution_count": null,
   "metadata": {},
   "outputs": [],
   "source": []
  }
 ],
 "metadata": {
  "kernelspec": {
   "display_name": "Python 3",
   "language": "python",
   "name": "python3"
  },
  "language_info": {
   "codemirror_mode": {
    "name": "ipython",
    "version": 3
   },
   "file_extension": ".py",
   "mimetype": "text/x-python",
   "name": "python",
   "nbconvert_exporter": "python",
   "pygments_lexer": "ipython3",
   "version": "3.7.6"
  }
 },
 "nbformat": 4,
 "nbformat_minor": 4
}
